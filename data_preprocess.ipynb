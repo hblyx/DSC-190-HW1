{
 "cells": [
  {
   "cell_type": "code",
   "execution_count": 1,
   "metadata": {
    "collapsed": true,
    "pycharm": {
     "name": "#%%\n"
    }
   },
   "outputs": [],
   "source": [
    "import json"
   ]
  },
  {
   "cell_type": "code",
   "execution_count": 2,
   "outputs": [],
   "source": [
    "file = open('tweetstream.txt', 'r')\n",
    "\n",
    "tags_stream = []\n",
    "\n",
    "while True:\n",
    "    line = file.readline()\n",
    "\n",
    "    if not line:\n",
    "        break\n",
    "\n",
    "    if line == \"\\n\":\n",
    "        continue\n",
    "\n",
    "    try:\n",
    "        jsn = json.loads(line)\n",
    "        htags = jsn[\"entities\"][\"hashtags\"]\n",
    "\n",
    "        tags = jsn[\"entities\"][\"hashtags\"]\n",
    "        if len(tags) <= 0:\n",
    "            continue\n",
    "\n",
    "        for tag in tags:\n",
    "            tag_text = tag[\"text\"]\n",
    "            tags_stream.append(tag_text)\n",
    "    except:\n",
    "        pass\n",
    "\n",
    "file.close()"
   ],
   "metadata": {
    "collapsed": false,
    "pycharm": {
     "name": "#%%\n"
    }
   }
  },
  {
   "cell_type": "code",
   "execution_count": 3,
   "outputs": [
    {
     "data": {
      "text/plain": "['kopitiam',\n '地震',\n 'fuck',\n 'Boss',\n 'NP',\n 'irctc',\n 'mmbacon',\n 'twoisnotenough',\n 'gonnabeagreatday',\n 'Np',\n 'Madrid',\n 'emeklilikteyaşatakılanlar',\n 'Grillo',\n 'chivivràvedrà',\n '20cosesulmiocompagnodibanco',\n 'Makesmesofter',\n 'ohYeah',\n 'fail',\n 'Rite',\n 'CandyCrushSagaProblems',\n '地震',\n 'NP',\n 'SummerBod',\n 'Yawns',\n 'thatisall',\n 'totalrequestlive',\n 'SoalSoccer',\n '아임IN',\n 'cheeky',\n 'OmSpikTanya',\n 'weather',\n 'instaweather',\n 'instaweatherpro',\n '內湖區',\n '台灣',\n 'chefacil',\n 'OdeioFunkPrefiro',\n 'getmedoe',\n 'ReMix',\n 'Geelani',\n 'Geelani',\n 'บาย',\n 'np',\n 'tesco',\n 'CRcd',\n '18ks',\n 'bigben',\n 'NP',\n 'plakk',\n 'journalistshelpme',\n 'frío',\n 'veranovenyaandabonito',\n 'watchout',\n 'ReMix',\n 'NoALaCarrera',\n 'duckdynasty',\n 'finally',\n 'Sigh',\n 'DrVampirKeren',\n 'marcatv',\n 'Funkcausainvejaemtodos',\n 'rendicion',\n 'NFLCombine',\n 'Hoegaarden',\n 'wishfulthinking',\n 'OmSpikTanya',\n 'pimphandstrong',\n 'OmSpikTanya',\n 'Mujeres',\n 'EspañaPuede',\n 'ChickFilA',\n 'FTW',\n '地震',\n 'idontevenusethisoften',\n 'Bravo',\n 'looseend',\n 'greenteaishealthy',\n 'foodporn',\n 'blessed',\n 'earthquake',\n 'OmSpikTanya',\n 'Randleman',\n 'NorthCarolina',\n 'Coeursurtoi',\n 'ليش_صار_عادي',\n 'Breitbart',\n 'silly',\n 'hooligan',\n 'Barcelona',\n 'Spain',\n 'Europe',\n 'finalCopadelRey',\n 'aspersoresxfavor',\n 'siempremadridista',\n 'DeportesCuatro',\n 'OmSpikTanya',\n 'Spring',\n 'help',\n 'strutture',\n 'ponti',\n 'tiranti',\n 'equilibrio',\n 'nl',\n 'tellementvrai',\n 'แก้วทำไรอยู่',\n 'sunny',\n 'CheerUp',\n 'LOVEYOU',\n 'chizz28',\n 'Asies',\n 'marines',\n 'フォロワーさんから見て私は攻めですか受けですか',\n 'MarianGetsMe',\n 'LAQUIERO',\n 'MotivoParaSerFeliz',\n 'TeamSingleAndReadyToMingle',\n 'TwitterlessMorgan',\n 'DontEverGiveUp',\n 'Believe',\n 'Faith',\n 'caribe',\n 'ExpoLaLigua',\n 'Vacaciones',\n 'PiscoElqui',\n 'Orlando',\n 'SEO',\n 'SocialMedia',\n 'Brownstock2013',\n 'OmSpikTanya',\n 'EveryPictureOnInstagram',\n 'girls',\n 'tsum',\n 'dlt',\n 'длт',\n 'beautiful',\n 'fun',\n 'sweet',\n 'cute',\n 'good',\n 'check',\n 'PerihalCinta',\n 'highlighters',\n 'attack',\n 'baldy',\n 'officefun',\n 'BukuTerimakasihIBU',\n 'TIBURON',\n 'bahn',\n 'makesmecry',\n '地震',\n 'girls',\n 'shosh',\n 'Haaaaannn',\n 'kids',\n 'cute',\n 'earthquake',\n 'sunshine',\n 'مستحيل',\n 'UckEmYe',\n 'Chiriqui',\n 'tranque',\n 'freehour',\n 'Hace3años',\n 'GellenforMarioMaurer',\n '트따는_부끄러운게_아니에요_트따는_극복할_수_있어요_트친들이_인용과_알티를_해준다면요',\n 'model',\n 'job',\n 'hdmi',\n 'mac',\n 'tv',\n 'Planazo',\n 'Norcross',\n 'Georgia',\n 'svpol',\n 'PArtiu',\n 'Escola',\n 'NumaSalaCom',\n '43Alunos',\n 'Hace3años',\n 'myworldtour',\n 'myworldtour',\n 'memories',\n 'TürklerinPsikolojisi',\n 'نزار',\n 'bbl',\n 'OmSpikTanya',\n 'ZayraFutureGagnante',\n 'GetPicreq',\n 'thestruggle',\n 'MadFollowingSpree',\n 'rutinitas',\n 'dickheadtweet',\n 'Vagos',\n 'holidayforsale',\n 'ireland',\n '20cosesulmiocompagnodibanco',\n 'JJ',\n 'nowplaying',\n 'amymacdonald',\n 'Prenzlau',\n 'Brandenburg',\n 'GER',\n 'wolfpack',\n 'HappyWednesday',\n 'nursingschoolmegacool',\n 'LoaManolos',\n 'whatif',\n 'Esque',\n 'HUATULCO',\n 'HitPan',\n 'Parocafetero',\n 'yum',\n 'brilliant',\n 'realmadrid',\n 'halamadrid',\n 'realmadrid',\n 'OmSpikTanya',\n '城',\n 'maiaapp_mai',\n '地震',\n 'แผนรักแผนร้าย',\n 'panrukpanrai',\n 'CandybyPrada',\n 'JKT48',\n 'Anas_Urbaningrum',\n '20cosesulmiocompagnodibanco',\n 'earthquake',\n 'rubi',\n 'ALDE',\n 'DAS',\n 'technology',\n 'GTL',\n 'nowplaying',\n 'DestinoEurovision',\n 'CobaanAnakTraining',\n 'ฝันดี',\n 'OmSpikTanya',\n '20cosesulmiocompagnodibanco',\n 'war',\n 'blood',\n 'kapoor',\n 'art',\n 'culture',\n 'denmark',\n 'aarhus',\n 'aros',\n 'instagood',\n 'tweegram',\n 'photooftheday',\n 'PhraseDeRuptureGeek',\n 'LT',\n '地震',\n 'ямолодец',\n 'UniaoDoTwitterSegueEuSigoDeVolta',\n 'ihateeveryone',\n 'NW',\n 'night',\n 'out',\n 'friends',\n 'me',\n 'happy',\n 'fun',\n 'drinks',\n 'vip',\n 'kushion',\n 'JamesonPlace',\n 'culturahipster',\n 'tobat',\n 'TakipçiGeldiCanlar',\n 'cuentaartras',\n 'Harmonia',\n 'soundtracking',\n 'yourmynumberonetwitterfan',\n 'she',\n 'loveher',\n 'loveyoulikeasister',\n 'HB',\n 'jeaulous',\n 'NowPlaying',\n 'Latin',\n 'Vocal',\n 'sowrong',\n 'CualquierDiaDesaparezco',\n 'MundoAcabateYaCoño',\n 'OmSpikTanya',\n 'Workshy',\n 'miam',\n 'istanbul',\n 'imbeggingyou',\n 'PoetProllems',\n 'Makesmesofter',\n 'mmmmm',\n 'IveSeenEveryEpisodeOf',\n 'notreallysorry',\n 'codurhamhour',\n 'imacoconow',\n 'TengoMiedoA',\n 'ingles',\n 'computacion',\n 'teamDev',\n 'letswinthejackpot',\n 'byeee',\n 'nf',\n 'whatsbeef',\n 'FitFam',\n 'ergathon2013',\n 'BlueJays',\n 'SpringTraining',\n 'SCOTUS',\n 'ProtectVRA',\n 'lasttweet',\n 'Gennius',\n 'delay',\n 'Uhuru',\n 'Kenyatta',\n 'Jiji',\n 'Kuu',\n 'Nairobi',\n 'Kenya',\n 'p2000',\n 'watiserloos',\n 'BuonCompleannoLucaFainello',\n 'ColombiaDiceCafeterosTienenRazón',\n 'OmSpikTanya',\n 'IveSeenEveryEpisodeOf',\n 'OmSpikTanya',\n 'notmyfault',\n 'آكابــر',\n 'indianaAndGonzaga',\n 'Baffled',\n 'model',\n 'beautiful',\n 'instagood',\n 'CantonLawyer',\n 'nailpolish',\n 'poshshop',\n 'violet',\n 'nails',\n 'potd',\n 'thank',\n 'goodmorning',\n 'ImSuchAChild',\n 'business',\n 'networking',\n 'group',\n 'VTAnato',\n 'กลัว',\n 'emc',\n 'vnx',\n 'RT',\n 'bilardo',\n 'frases',\n 'UBS',\n 'stamford',\n 'OmSpikTanya',\n 'TeamWolvo',\n 'SekilasMantan',\n 'putadassinceras',\n 'ElbaEstherGordillo',\n 'Deportes4',\n 'MentionSomeoneMakeMeHappy',\n 'Work',\n 'lol',\n 'chips',\n 'fish',\n 'batter',\n 'curry',\n 'plate',\n 'food',\n 'hungry',\n 'meal',\n 'hot',\n 'tasty',\n 'lunch',\n 'Maestra',\n 'MEVuelvesLoco',\n 'Idola',\n 'JD4',\n 'OmSpikTanya',\n 'adultresponsibilitessuck',\n 'شي_جميل_بحرف_الصاد',\n 'Magistral',\n 'Elba',\n 'imdonewithyou',\n 'apologize',\n 'Gettysburg',\n 'Pennsylvania',\n 'FuckBodoNekat',\n 'บ่วงบาป',\n 'tooeasy',\n 'odie',\n 'doglove',\n 'parqueolimpico',\n 'nikeplus',\n 'FechasInolvidables',\n 'VOCÊ',\n 'Scorpio',\n 'silentdays',\n 'NP',\n 'gengDPR',\n 'BBB13',\n 'VoltaElieser',\n 'spring',\n 'snowing',\n 'winter',\n 'Leon',\n 'MWC13',\n 'taxisigualada',\n 'igualadapower',\n 'alguhohaviadedir',\n 'YoPaso',\n 'DOPEDIARIES',\n 'armday',\n 'sore',\n 'OmSpikTanya',\n 'GoZoziGo',\n 'FechasInolvidables',\n 'QAG',\n 'JodohPastiBertemu',\n 'eyeland',\n 'eyeland',\n 'ganasdellegaraSevilla',\n 'tarik',\n 'justus',\n 'smh',\n 'wth',\n 'gonnamissfrank',\n 'TheMob',\n 'off',\n 'happyhumpday',\n 'holyfuck',\n 'bffdate',\n 'อยากกอด',\n 'NP',\n 'fabiodiz',\n 'smellyvag',\n 'หนูอยู่กับอาได้น่าาา',\n '14DaysToGoKathNielMustBeLove',\n 'MADRID',\n 'OmSpikTanya',\n 'lindas',\n 'amovos',\n 'Indonesia',\n 'Football',\n 'whipped',\n 'Entrée',\n 'dégouté',\n 'ltjw',\n 'OhMyGod',\n 'staystrong',\n 'FechasInolvidables',\n 'notime',\n 'TT',\n 'phsprobs',\n 'TeamNintendo',\n 'FollowMiggySanPablo',\n 'FollowMiggySanPablo',\n 'FollowMiggySanPablo',\n 'FollowMiggySanPablo',\n 'FollowMiggySanPablo',\n 'Anberlin',\n 'flaman',\n 'minfel',\n 'AgeOfStupid',\n 'instagood',\n 'instadaily',\n 'instafamous',\n 'instatoday',\n 'AseliPalopo',\n 'KamusPalopo',\n 'igers',\n 'instagood',\n 'instadaily',\n 'picoftheday',\n 'together',\n 'loved',\n 'AcakFilm',\n 'PlayoffENERGY',\n 'idiot',\n 'LT',\n 'primavara',\n 'chisinau',\n 'off',\n 'dead',\n 'seeprevioustweet',\n 'zombieland',\n 'Paris',\n 'FashionWeek',\n 'catwalks',\n 'AW13',\n 'ShortMovie',\n 'huesca',\n 'nii',\n 'fraga',\n 'trafico',\n 'buss',\n 'fuck',\n 'music',\n '20cosesulmiocompagnodibanco',\n 'ibnux',\n 'lastrerweet',\n 'neverenoughsleep',\n 'LiesToldInSchool',\n 'alltimefavourite',\n 'SadSequels',\n 'lesmis',\n 'losmiserables',\n 'recomendacion',\n 'portadas',\n 'elba',\n 'snte',\n 'ihateyou8ams',\n 'Teamyôrôgang',\n 'pchoops',\n 'VixenGang',\n 'MWC13',\n 'JonasBrothersCameonTurkey',\n 'basic',\n 'FORRONEJOBRAHMA',\n 'Vou',\n 'Vais',\n 'Vai',\n 'BenjaminFranklin',\n 'bedstpaanettet',\n 'baghdad',\n 'iraq',\n 'feusurmoi',\n 'الهلال',\n 'ريتويت',\n 'trashy',\n 'OmSpikTanya',\n 'future',\n 'tuneeeee',\n 'jealousmuch',\n 'PabloHiriart',\n 'ElbaEstherGordillo',\n 'np',\n 'dbid',\n 'Francis',\n 'HospitalFoodSoon',\n 'BuŞehirdeBen',\n 'instagood',\n 'TL',\n 'teambigbreast',\n 'StarbucksFeign',\n 'PhraseDeRuptureGeek',\n 'GenerosityKuh',\n 'myfavoriteday',\n 'Stallone',\n 'Panama',\n 'FunkCausaInvejaEmTodos',\n 'YippeeKiYay',\n 't3techwin',\n 't3DH5',\n 'ylen',\n 'plusdeskiin',\n 'viefootum',\n 'long',\n 'headache',\n 'MorningShow',\n 'Emma',\n 'eoi',\n 'reuniSD',\n 'DeportesCuatro',\n 'fambangsat',\n 'JamesonPlace',\n 'culturahipster',\n 'shockwave',\n 'fysiotherapeuten',\n 'jackjohnson',\n 'Stellingmolen',\n 'Barendrecht',\n 'yipeeee',\n 'NP',\n 'maisumagalodoido',\n 'REEEEEEE',\n 'twitterlesskatie',\n 'kuzeytekinoğlu',\n 'bugungunlerdenkuzeyguney',\n 'teatotal',\n 'hello',\n 'selfdiscipline',\n 'FechasInolvidables',\n 'meaty',\n 'huge',\n 'WellDoneBigAl',\n 'nannylife',\n 'FunkCausaInvejaEmTodos',\n 'oops',\n 'hotttymchothot',\n 'fml',\n 'poorme',\n 'OmSpikTanya',\n 'loshijosdetia',\n 'sobrinos',\n 'Endomondo',\n 'yay',\n 'LePirePourUneGrosse',\n 'IEDs',\n 'AyDios',\n 'ชั้นผอมหุ่นดี',\n 'maybe',\n 'hopefull',\n 'Yuksek',\n 'C2C',\n 'OmSpikTanya',\n 'PortoAnticoInRosa',\n 'wetuggs',\n 'Endomondo',\n 'PR',\n 'feelinggood',\n 'imissmyfriends',\n 'topgoal',\n 'np',\n 'SoundHound',\n 'FREEONGKIR',\n 'OmSpikTanya',\n 'carnaval',\n 'percent',\n 'jk',\n 'FuckOff',\n 'IdiotsOfLowerCampus',\n 'DECA',\n 'sales',\n 'prospecting',\n 'пробкаебаная',\n 'ElClasico',\n 'nosseguimos',\n 'SEGUIDORES',\n 'SIGUEMEYTESIGO',\n 'FOLLOWBACKSEGURO',\n 'HumpDayGrumpDay',\n 'teamdominican',\n 'klk',\n 'Saludos',\n 'OmSpikTanya',\n 'OmSpikTanya',\n 'ARY',\n '20cosesulmiocompagnodibanco',\n 'فريق_زيادة_عدد_المتابعين',\n 'اقوى_ريتويت',\n 'دعم_فلورز',\n 'andeggs',\n 'jenny',\n 'Staffordshire',\n 'M5S',\n 'Oomf',\n 'OmSpikTanya',\n 'ipodshuffle',\n 'letspaychloeavisit',\n 'aotp',\n 'FechasInolvidables',\n 'SUFC',\n 'ora',\n 'YaNoHayRespeto',\n 'Sonne',\n 'welovehh',\n 'soalhujan',\n 'ibnux',\n 'pinkshirtday',\n '4Pics1word',\n 'Essex',\n 'Harwich',\n 'Cogelo',\n 'Waterloo',\n 'Toronto',\n '21stDress',\n 'Wednesday',\n '_تصميمي',\n 'seandainya',\n 'KM',\n 'nervouss',\n 'Fest',\n '26to21',\n 'GTA4',\n 'please',\n 'iwish',\n 'OmSpikTanya',\n 'Oscar2013',\n 'sengal',\n 'DennisCrowley',\n 'demoday',\n 'wayraes',\n 'struggle',\n 'caregiver',\n 'quote',\n 'inspiration',\n 'ferriswheel',\n 'donmedolap',\n 'spring',\n 'lambs',\n 'Rubí',\n 'CPTM',\n 'liberidichiedere',\n 'partiu',\n 'SuezRoad',\n 'Thawra',\n 'Shorouk',\n 'Taree2y',\n 'cairotraffic',\n 'TeamWolvo',\n 'TeamLaSalleAkoDahil',\n 'Ascom',\n 'BONDEDODAVID',\n 'RempsCitou',\n 'diva',\n 'VixenGang',\n 'petertosh',\n '14DaysToGoKathNielMustBeLove',\n 'seasonal',\n 'jobs',\n 'NotGood',\n 'drunk',\n 'orange',\n 'damn',\n 'seasonal',\n 'jobs',\n 'seasonal',\n 'jobs',\n 'bete',\n 'iphoneteam',\n 'lols',\n 'LT',\n 'SOALsby',\n 'wpp',\n 'OmSpikTanya',\n 'FechasInolvidables',\n 'FechasInolvidables',\n 'nf',\n 'Trakdungces',\n 'Shinebrightlikeadiamond',\n 'hestekkode',\n 'OmSpikTanya',\n 'pp',\n 'Racing',\n 'FechasInolvidables',\n 'annoyed',\n 'buenvideomandaste',\n 'IfYouKnowWhatIMean',\n '4floors',\n 'college',\n 'sochi',\n 'medo',\n 'instaescola',\n 'instainferno',\n 'instabolada',\n 'OmSpikTanya',\n 'caseyoudidntknow',\n 'rockinthepony',\n 'whatev',\n 'tweegram',\n 'photooftheday',\n 'me',\n 'instamood',\n 'cute',\n 'iphonesia',\n 'fashion',\n 'summer',\n 'tbt',\n 'igers',\n 'picoftheday',\n 'food',\n 'NorthwoodHills',\n 'madeinitaly',\n 'PODEU',\n 'ngarepp',\n 'E42',\n 'Bigdata',\n 'DoctorsOffice',\n 'ThroatBurning',\n 'FML',\n 'vrzo',\n 'laodio',\n 'Eli_Dasa',\n 'OmSpikTanya',\n 'PiorQueFunkSó',\n 'MATAMIS',\n 'FORSALE',\n 'ORDERNOW',\n 'dessert',\n 'food',\n 'desserts',\n 'TagsForLikes',\n 'followme',\n 'yummy',\n 'amazing',\n 'instagood',\n 'OmSpikTanya',\n 'trabajo',\n 'empleo',\n 'Chaparral',\n 'NewMexico',\n 'Scorpios',\n 'FunkCausaInvejaEmTodos',\n 'Persib',\n 'Bandung',\n '3poin',\n 'ISL',\n 'JourneeDeMerde',\n 'FechasInolvidables',\n 'NowWatching',\n 'tihange',\n 'nucleair',\n 'RiseAndGrind',\n 'Pahit',\n 'letsgetamillion',\n 'police',\n 'wisdomwednesday',\n 'Andrés',\n 'CleansingDiet',\n 'dying',\n 'SoExcited',\n 'Yummy',\n 'loct_yue',\n 'คาบน้ำตา',\n 'RemajaIndonesiaMarchWish',\n 'tweeter_Biggs',\n 'picoftheday',\n 'instaphoto',\n 'iphonesia',\n 'iloveit',\n 'rpsp',\n 'typical',\n 'ChloeSondage',\n 'quetiamaslenta',\n 'Endomondo',\n 'dope',\n 'tweeter_Biggs',\n 'TheSunArises',\n 'anyonesfriend',\n 'kännermigintelikatpllängre',\n 'halamadrid',\n 'Mourinho',\n 'halamadrid',\n 'realmadrid',\n 'RemajaIndonesiaMarchWish',\n 'WayBackWednesday',\n 'twins',\n 'babies',\n 'awe',\n 'LT',\n 'TheseProfessors',\n 'suck',\n 'nightmare',\n 'Essex',\n 'Romford',\n 'HAHA',\n 'UKISSCOMEBACK',\n 'PajaCuando',\n 'timeforlaundry',\n 'sorryfuckers',\n 'cold',\n 'GACurriculumTable',\n 'Gbabe',\n 'sneezing',\n 'annoying',\n 'spring',\n 'edisilembur',\n 'BuonCompleannoLucaFainello',\n '20cosesulmiocompagnodibanco',\n 'PBLV',\n 'thinki',\n 'www',\n 'frasesescolares',\n 'BP',\n 'sg',\n 'potd',\n 'asian',\n 'instagood',\n 'instalike',\n 'friends',\n 'happy',\n 'TeamFoot',\n 'TeamOm',\n 'TeamReal',\n 'Lantern',\n 'LittleTokyo',\n 'CiteAsPessoasLindasDoSeuTwitter',\n 'OmSpikTanya',\n 'LaslasNaFriend',\n 'BeastieBoys',\n 'HighSchool',\n 'البحرين',\n 'eh',\n 'OmSpikTanya',\n '地震',\n 'sevaallevarunsopapo',\n 'earthquake',\n '地震',\n 'dores',\n 'getagrip',\n 'redbulluk',\n 'royals',\n 'SoalSoccer',\n 'turnup',\n 'ItsNotThatSerious',\n 'TheGreatestLove',\n 'GameofFood',\n 'FOLLOWBACKSEGURO',\n 'FOLLOWBACK',\n 'SIGUEMEYTESIGO',\n 'alligator',\n 'dummotrucks',\n 'LOL',\n 'MerdeAlors',\n 'arrow',\n 'warnerchanel',\n 'hellyeah',\n 'SuratDariLangitBiru',\n 'BiPolarWeather',\n 'OmSpikTanya',\n 'nohayderecho',\n 'p2000',\n 'watiserloos',\n 'DiasAsiSí',\n 'EternoCarles',\n 'OmSpikTanya',\n 'Elsueñodemorfeo',\n 'Eurovisión2013',\n 'بورسعيد',\n 'مصر',\n '地震',\n 'earthquake',\n '地震',\n 'LongBeachLiving',\n '50MillionGreysonsPaparazzi',\n 'Guaino',\n 'QAG',\n 'DirectAN',\n 'TresGolpes',\n 'costsaving',\n 'ZOOBoobs',\n 'zootwitties',\n 'TheStruggle',\n 'idontwanna',\n 'wah',\n 'DeportesCuatro',\n 'OmSpikTanya',\n 'dessert',\n 'foodstagram',\n 'dying',\n 'fé',\n 'TornadoPride',\n 'TheGriindNeverStops',\n 'truestory',\n 'เพราะเป็นจีท็อปชิปเปอร์จึงเจ็บปวด',\n 'blood',\n 'kapoor',\n 'art',\n 'culture',\n 'denmark',\n 'aarhus',\n 'aros',\n 'instagood',\n 'tweegram',\n 'photooftheday',\n 'iphonesia',\n 'MiercolesDeBarcelona',\n 'BSC',\n 'DuckDynasty',\n 'แผนรักแผนร้าย',\n 'panrukpanrai',\n 'EU',\n 'jobs',\n 'growth',\n 'Alaala',\n 'irene',\n 'WaldenTeAmo',\n 'TengoMiedoA',\n 'ItBeLikeThat',\n 'UpMyGame',\n 'Bandwagoners',\n 'twins',\n 'FOLLOWBACKSEGURO',\n 'FOLLOWBACK',\n 'SIGUEMEYTESIGO',\n 'English',\n 'Valencia',\n 'PBB',\n 'ivegotspeed',\n 'desayuno',\n 'BuenosDías',\n 'Saturation',\n 'BirÜlkede',\n 'nextedsheeran',\n 'UDAHPUTUSINAJA',\n 'wwth',\n 'instaphone',\n 'instagram',\n 'paris',\n 'Eiffel',\n 'drawing',\n 'pencil',\n 'me',\n 'pijnaanmevoett',\n 'BackInJuniorHigh',\n 'twittab',\n 'OmSpikTanya',\n 'teamj',\n 'muerte',\n ...]"
     },
     "execution_count": 3,
     "metadata": {},
     "output_type": "execute_result"
    }
   ],
   "source": [
    "tags_stream"
   ],
   "metadata": {
    "collapsed": false,
    "pycharm": {
     "name": "#%%\n"
    }
   }
  },
  {
   "cell_type": "code",
   "execution_count": 4,
   "outputs": [
    {
     "data": {
      "text/plain": "894098"
     },
     "execution_count": 4,
     "metadata": {},
     "output_type": "execute_result"
    }
   ],
   "source": [
    "len(tags_stream)"
   ],
   "metadata": {
    "collapsed": false,
    "pycharm": {
     "name": "#%%\n"
    }
   }
  },
  {
   "cell_type": "code",
   "execution_count": 11,
   "outputs": [],
   "source": [
    "with open(\"tags_stream.txt\", \"w\", encoding='utf-8') as output:\n",
    "    for tag in tags_stream:\n",
    "            output.write(tag + \"\\n\")"
   ],
   "metadata": {
    "collapsed": false,
    "pycharm": {
     "name": "#%%\n"
    }
   }
  }
 ],
 "metadata": {
  "kernelspec": {
   "display_name": "Python 3",
   "language": "python",
   "name": "python3"
  },
  "language_info": {
   "codemirror_mode": {
    "name": "ipython",
    "version": 2
   },
   "file_extension": ".py",
   "mimetype": "text/x-python",
   "name": "python",
   "nbconvert_exporter": "python",
   "pygments_lexer": "ipython2",
   "version": "2.7.6"
  }
 },
 "nbformat": 4,
 "nbformat_minor": 0
}