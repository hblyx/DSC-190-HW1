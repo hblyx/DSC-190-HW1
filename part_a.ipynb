{
 "cells": [
  {
   "cell_type": "markdown",
   "source": [
    "# Part (a)\n",
    "\n",
    "## Implement the algorithm\n",
    "\n",
    "Function to load the stream data from pre-processed file."
   ],
   "metadata": {
    "collapsed": false,
    "pycharm": {
     "name": "#%% md\n"
    }
   }
  },
  {
   "cell_type": "code",
   "execution_count": 1,
   "outputs": [],
   "source": [
    "def load_real_data():\n",
    "    tags_stream = []\n",
    "\n",
    "    with open(\"tags_stream.txt\", \"r\", encoding='utf-8') as input:\n",
    "        while True:\n",
    "            tag = input.readline()\n",
    "\n",
    "            if not tag:\n",
    "                break\n",
    "\n",
    "            tags_stream.append(tag.strip())\n",
    "\n",
    "    print(len(tags_stream))\n",
    "    return tags_stream"
   ],
   "metadata": {
    "collapsed": false,
    "pycharm": {
     "name": "#%%\n"
    }
   }
  },
  {
   "cell_type": "markdown",
   "source": [
    "#### First Pass of the Algorithm\n",
    "\n",
    "First pass of the algorithm, it use list to count items and decrease count as described in the HW1. We actually use a Python dictionary instead of a simple list to accelerate the algorithm."
   ],
   "metadata": {
    "collapsed": false,
    "pycharm": {
     "name": "#%% md\n"
    }
   }
  },
  {
   "cell_type": "code",
   "execution_count": 2,
   "outputs": [],
   "source": [
    "def algorithmAPass1(tags_stream, k):\n",
    "    li = {}\n",
    "    for tag in tags_stream:\n",
    "        if tag in li.keys(): # if the tag is in\n",
    "            li[tag] += 1\n",
    "        else: # if the tag is not in\n",
    "            if len(li) < k: # if the list is not full\n",
    "                li[tag] = 1\n",
    "            else: # if the list is full\n",
    "                for key in list(li):\n",
    "                    li[key] -= 1\n",
    "                    if li[key] == 0:\n",
    "                        del li[key]\n",
    "\n",
    "    return li"
   ],
   "metadata": {
    "collapsed": false,
    "pycharm": {
     "name": "#%%\n"
    }
   }
  },
  {
   "cell_type": "markdown",
   "source": [
    "#### Test the first pass of the algorithm\n",
    "\n",
    "The first pass guarentees any item has frequency > m/(k+1) is in the output list."
   ],
   "metadata": {
    "collapsed": false,
    "pycharm": {
     "name": "#%% md\n"
    }
   }
  },
  {
   "cell_type": "code",
   "execution_count": 3,
   "outputs": [
    {
     "data": {
      "text/plain": "{'c': 1, 'd': 1}"
     },
     "execution_count": 3,
     "metadata": {},
     "output_type": "execute_result"
    }
   ],
   "source": [
    "# m = 8, k = 2\n",
    "# return all items with frequency > 2.666\n",
    "\n",
    "ts = [\"a\", \"b\", \"a\", \"b\", \"c\", \"d\", \"c\", \"d\"]\n",
    "\n",
    "algorithmAPass1(ts, 2)"
   ],
   "metadata": {
    "collapsed": false,
    "pycharm": {
     "name": "#%%\n"
    }
   }
  },
  {
   "cell_type": "code",
   "execution_count": 4,
   "outputs": [
    {
     "data": {
      "text/plain": "{'a': 3, 'b': 2}"
     },
     "execution_count": 4,
     "metadata": {},
     "output_type": "execute_result"
    }
   ],
   "source": [
    "# m = 8, k = 2\n",
    "# return all items with frequency > 2.666\n",
    "\n",
    "ts = [\"a\", \"b\", \"a\", \"b\", \"a\", \"b\", \"a\", \"d\"]\n",
    "\n",
    "algorithmAPass1(ts, 2)"
   ],
   "metadata": {
    "collapsed": false,
    "pycharm": {
     "name": "#%%\n"
    }
   }
  },
  {
   "cell_type": "code",
   "execution_count": 5,
   "outputs": [
    {
     "data": {
      "text/plain": "{'a': 3, 'd': 1}"
     },
     "execution_count": 5,
     "metadata": {},
     "output_type": "execute_result"
    }
   ],
   "source": [
    "# m = 12, k = 3\n",
    "# return all items with frequency > 3\n",
    "\n",
    "ts = [\"a\", \"b\", \"a\", \"b\", \"a\", \"a\", \"a\", \"d\", \"d\", \"d\", \"c\", \"c\"]\n",
    "\n",
    "algorithmAPass1(ts, 3)"
   ],
   "metadata": {
    "collapsed": false,
    "pycharm": {
     "name": "#%%\n"
    }
   }
  },
  {
   "cell_type": "markdown",
   "source": [
    "#### Second Pass of the Algorithm\n",
    "\n",
    "Second pass of the algorithm, since the first pass only guarantees the satisfied items in the list, it does not tell which the satisfied items are directly."
   ],
   "metadata": {
    "collapsed": false,
    "pycharm": {
     "name": "#%% md\n"
    }
   }
  },
  {
   "cell_type": "code",
   "execution_count": 6,
   "outputs": [],
   "source": [
    "def algorithmAPass2(pass1_result, tags_stream, threshold):\n",
    "    result = []\n",
    "    counts = {}\n",
    "\n",
    "    # initialize counter with all tags in the output list of the first pass\n",
    "    for tag in list(pass1_result):\n",
    "        counts[tag] = 0\n",
    "\n",
    "    for tag in tags_stream:\n",
    "        if tag in counts.keys(): # if the tag is in the output list\n",
    "            counts[tag] += 1\n",
    "\n",
    "    for tag in counts:\n",
    "        if counts[tag] >= threshold * len(tags_stream):\n",
    "            result.append(tag)\n",
    "\n",
    "    return result"
   ],
   "metadata": {
    "collapsed": false,
    "pycharm": {
     "name": "#%%\n"
    }
   }
  },
  {
   "cell_type": "markdown",
   "source": [
    "#### Full Algorithm and Test on the actual dataset\n",
    "\n",
    "Combine the first pass and the second pass, and test it on the actual dataset."
   ],
   "metadata": {
    "collapsed": false,
    "pycharm": {
     "name": "#%% md\n"
    }
   }
  },
  {
   "cell_type": "code",
   "execution_count": 7,
   "outputs": [],
   "source": [
    "def algorithmA(k, threshold):\n",
    "    tags_stream = load_real_data()\n",
    "    p1_result = algorithmAPass1(tags_stream, k)\n",
    "    return algorithmAPass2(p1_result, tags_stream, threshold)"
   ],
   "metadata": {
    "collapsed": false,
    "pycharm": {
     "name": "#%%\n"
    }
   }
  },
  {
   "cell_type": "code",
   "execution_count": 8,
   "outputs": [
    {
     "name": "stdout",
     "output_type": "stream",
     "text": [
      "894098\n"
     ]
    },
    {
     "data": {
      "text/plain": "['np',\n 'jobs',\n 'RT',\n 'love',\n 'Job',\n 'Jobs',\n 'TweetMyJobs',\n 'meteoAlarm',\n 'jaibrooksfollowspree',\n 'Viña2013',\n '31Minutos',\n '31minutos',\n '地震',\n 'BLANCO']"
     },
     "execution_count": 8,
     "metadata": {},
     "output_type": "execute_result"
    }
   ],
   "source": [
    "algorithmA(500, 0.002)"
   ],
   "metadata": {
    "collapsed": false,
    "pycharm": {
     "name": "#%%\n"
    }
   }
  },
  {
   "cell_type": "markdown",
   "source": [
    "## Evaluate with the actual frequencies\n",
    "\n",
    "Count the actual frequencies to make sure it works."
   ],
   "metadata": {
    "collapsed": false,
    "pycharm": {
     "name": "#%% md\n"
    }
   }
  },
  {
   "cell_type": "code",
   "execution_count": 9,
   "outputs": [
    {
     "name": "stdout",
     "output_type": "stream",
     "text": [
      "894098\n"
     ]
    },
    {
     "data": {
      "text/plain": "[('地震', 1962),\n ('np', 2649),\n ('RT', 2082),\n ('jobs', 2124),\n ('love', 2140),\n ('BLANCO', 2739),\n ('meteoAlarm', 3790),\n ('Viña2013', 3267),\n ('Jobs', 5652),\n ('31minutos', 2264),\n ('Job', 7840),\n ('TweetMyJobs', 4024),\n ('31Minutos', 2644),\n ('jaibrooksfollowspree', 2086)]"
     },
     "execution_count": 9,
     "metadata": {},
     "output_type": "execute_result"
    }
   ],
   "source": [
    "ts = load_real_data()\n",
    "\n",
    "true_count = {}\n",
    "for tag in ts:\n",
    "    if tag not in true_count.keys():\n",
    "        true_count[tag] = 0\n",
    "\n",
    "    true_count[tag] += 1\n",
    "\n",
    "true_result = []\n",
    "for tag in true_count:\n",
    "    if true_count[tag] >= len(ts) * 0.002:\n",
    "        true_result.append((tag, true_count[tag]))\n",
    "\n",
    "true_result"
   ],
   "metadata": {
    "collapsed": false,
    "pycharm": {
     "name": "#%%\n"
    }
   }
  },
  {
   "cell_type": "code",
   "execution_count": 10,
   "outputs": [
    {
     "data": {
      "text/plain": "14"
     },
     "execution_count": 10,
     "metadata": {},
     "output_type": "execute_result"
    }
   ],
   "source": [
    "len(true_result)"
   ],
   "metadata": {
    "collapsed": false,
    "pycharm": {
     "name": "#%%\n"
    }
   }
  }
 ],
 "metadata": {
  "kernelspec": {
   "display_name": "Python 3",
   "language": "python",
   "name": "python3"
  },
  "language_info": {
   "codemirror_mode": {
    "name": "ipython",
    "version": 2
   },
   "file_extension": ".py",
   "mimetype": "text/x-python",
   "name": "python",
   "nbconvert_exporter": "python",
   "pygments_lexer": "ipython2",
   "version": "2.7.6"
  }
 },
 "nbformat": 4,
 "nbformat_minor": 0
}