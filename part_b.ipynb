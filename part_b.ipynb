{
 "cells": [
  {
   "cell_type": "code",
   "execution_count": 1,
   "metadata": {
    "collapsed": true,
    "pycharm": {
     "name": "#%%\n"
    }
   },
   "outputs": [],
   "source": [
    "from Count_Min_Sketch import *"
   ]
  },
  {
   "cell_type": "markdown",
   "source": [
    "## Test Count-min Sketch with example"
   ],
   "metadata": {
    "collapsed": false,
    "pycharm": {
     "name": "#%% md\n"
    }
   }
  },
  {
   "cell_type": "code",
   "execution_count": 2,
   "outputs": [],
   "source": [
    "ts = [\"a\", \"b\", \"a\", \"b\", \"c\", \"d\", \"c\", \"d\", \"e\", \"f\", \"f\", \"f\"]"
   ],
   "metadata": {
    "collapsed": false,
    "pycharm": {
     "name": "#%%\n"
    }
   }
  },
  {
   "cell_type": "code",
   "execution_count": 3,
   "outputs": [
    {
     "name": "stdout",
     "output_type": "stream",
     "text": [
      "The nearest prime number is: 13\n",
      "estimate frequency of a: 2.0\n",
      "estimate frequency of b: 2.0\n",
      "estimate frequency of c: 5.0\n",
      "estimate frequency of d: 2.0\n",
      "estimate frequency of e: 1.0\n",
      "estimate frequency of f: 5.0\n"
     ]
    }
   ],
   "source": [
    "p = find_prime(len(ts))\n",
    "print(\"The nearest prime number is:\", p)\n",
    "\n",
    "test_cms = CountMinSketch(100, 10, p)\n",
    "\n",
    "for item in ts:\n",
    "    test_cms.update(item)\n",
    "\n",
    "print(\"estimate frequency of a:\", test_cms.get(\"a\"))\n",
    "print(\"estimate frequency of b:\", test_cms.get(\"b\"))\n",
    "print(\"estimate frequency of c:\", test_cms.get(\"c\"))\n",
    "print(\"estimate frequency of d:\", test_cms.get(\"d\"))\n",
    "print(\"estimate frequency of e:\", test_cms.get(\"e\"))\n",
    "print(\"estimate frequency of f:\", test_cms.get(\"f\"))"
   ],
   "metadata": {
    "collapsed": false,
    "pycharm": {
     "name": "#%%\n"
    }
   }
  },
  {
   "cell_type": "markdown",
   "source": [
    "## Test Heavy Hitter algorithm with example"
   ],
   "metadata": {
    "collapsed": false,
    "pycharm": {
     "name": "#%% md\n"
    }
   }
  },
  {
   "cell_type": "code",
   "execution_count": 4,
   "outputs": [],
   "source": [
    "def algorithmB(tags_stream, d=3000, w=15, k=500):\n",
    "    m = 0\n",
    "    p = find_prime(len(tags_stream))\n",
    "\n",
    "    cms = CountMinSketch(w, d, p)\n",
    "    heap = []\n",
    "\n",
    "    for index, tag in enumerate(tags_stream):\n",
    "        cms.update(tag)\n",
    "        frequency = cms.get(tag)\n",
    "        m = index + 1\n",
    "        if frequency >= (m / k):\n",
    "            heappush(heap, (frequency, tag))\n",
    "\n",
    "        if len(heap) > (4 * k):\n",
    "            heap = heap_deletion(m, k, heap)\n",
    "\n",
    "    result = []\n",
    "    heap = heap_deletion(m, k, heap)\n",
    "    for count, tag in heap:\n",
    "        if count >= (m / k):\n",
    "            result.append(tag)\n",
    "\n",
    "    return result"
   ],
   "metadata": {
    "collapsed": false,
    "pycharm": {
     "name": "#%%\n"
    }
   }
  },
  {
   "cell_type": "code",
   "execution_count": 5,
   "outputs": [
    {
     "data": {
      "text/plain": "20"
     },
     "execution_count": 5,
     "metadata": {},
     "output_type": "execute_result"
    }
   ],
   "source": [
    "# confidence = 1 / (num of unique ^2 * m) = 1 / (3^2 * 18)\n",
    "# d = ln(1/confidence) = 5\n",
    "# epsilon = 1 / 2k = 1/ 4\n",
    "# w = e / epsilon = 11\n",
    "\n",
    "ts = [\"a\", \"b\", \"a\", \"b\", \"a\", \"b\", \"a\", \"b\", \"a\", \"c\", \"a\", \"b\", \"a\", \"b\", \"a\", \"b\", \"a\", \"b\", \"a\", \"b\"]\n",
    "len(ts)"
   ],
   "metadata": {
    "collapsed": false,
    "pycharm": {
     "name": "#%%\n"
    }
   }
  },
  {
   "cell_type": "code",
   "execution_count": 6,
   "outputs": [
    {
     "data": {
      "text/plain": "['a']"
     },
     "execution_count": 6,
     "metadata": {},
     "output_type": "execute_result"
    }
   ],
   "source": [
    "algorithmB(ts, d=5, w=11, k=2)"
   ],
   "metadata": {
    "collapsed": false,
    "pycharm": {
     "name": "#%%\n"
    }
   }
  },
  {
   "cell_type": "markdown",
   "source": [
    "## Run on the actual dataset"
   ],
   "metadata": {
    "collapsed": false,
    "pycharm": {
     "name": "#%% md\n"
    }
   }
  },
  {
   "cell_type": "code",
   "execution_count": 7,
   "outputs": [],
   "source": [
    "def load_real_data():\n",
    "    tags_stream = []\n",
    "\n",
    "    with open(\"tags_stream.txt\", \"r\", encoding='utf-8') as input:\n",
    "        while True:\n",
    "            tag = input.readline()\n",
    "\n",
    "            if not tag:\n",
    "                break\n",
    "\n",
    "            tags_stream.append(tag.strip())\n",
    "\n",
    "    print(len(tags_stream))\n",
    "    return tags_stream"
   ],
   "metadata": {
    "collapsed": false,
    "pycharm": {
     "name": "#%%\n"
    }
   }
  },
  {
   "cell_type": "code",
   "execution_count": 8,
   "outputs": [
    {
     "name": "stdout",
     "output_type": "stream",
     "text": [
      "894098\n"
     ]
    }
   ],
   "source": [
    "ts = load_real_data()"
   ],
   "metadata": {
    "collapsed": false,
    "pycharm": {
     "name": "#%%\n"
    }
   }
  },
  {
   "cell_type": "code",
   "execution_count": 9,
   "outputs": [
    {
     "data": {
      "text/plain": "309555"
     },
     "execution_count": 9,
     "metadata": {},
     "output_type": "execute_result"
    }
   ],
   "source": [
    "# number of unique tags\n",
    "unique_set = set()\n",
    "for tag in ts:\n",
    "    unique_set.add(tag)\n",
    "\n",
    "len(unique_set)"
   ],
   "metadata": {
    "collapsed": false,
    "pycharm": {
     "name": "#%%\n"
    }
   }
  },
  {
   "cell_type": "code",
   "execution_count": 22,
   "outputs": [
    {
     "data": {
      "text/plain": "['SpikersMarchWish',\n '地震',\n 'NP',\n 'Pietrolife',\n 'love',\n 'jiwakosong',\n '31Minutos',\n 'RT',\n '31minutos',\n 'FautAssumerDesfois',\n 'BLANCO',\n 'meteoAlarm',\n 'jaibrooksfollowspree',\n 'Jobs',\n 'TweetMyJobs',\n 'jobs',\n 'Job',\n 'Viña2013',\n 'np',\n 'Cuddles']"
     },
     "execution_count": 22,
     "metadata": {},
     "output_type": "execute_result"
    }
   ],
   "source": [
    "result_002 = algorithmB(ts, d=40, w=3000, k=500)\n",
    "result_002"
   ],
   "metadata": {
    "collapsed": false,
    "pycharm": {
     "name": "#%%\n"
    }
   }
  },
  {
   "cell_type": "code",
   "execution_count": 23,
   "outputs": [
    {
     "data": {
      "text/plain": "20"
     },
     "execution_count": 23,
     "metadata": {},
     "output_type": "execute_result"
    }
   ],
   "source": [
    "len(result_002)"
   ],
   "metadata": {
    "collapsed": false,
    "pycharm": {
     "name": "#%%\n"
    }
   }
  },
  {
   "cell_type": "code",
   "execution_count": 24,
   "outputs": [
    {
     "data": {
      "text/plain": "['trafico',\n 'instagram',\n 'PSGOM',\n 'BackInJuniorHigh',\n 'coupon',\n 'AMARILLO',\n 'photooftheday',\n 'fb',\n 'instamood',\n 'NairobiSC',\n 'iOnlyGetMadWhen',\n 'me',\n 'LRT',\n 'MarchWish',\n 'internship',\n 'FechasInolvidables',\n 'tbt',\n 'JJ',\n 'Pietrolife',\n 'DuckDynasty',\n 'viña2013',\n 'jiwakosong',\n 'NP',\n 'love',\n 'schenectady',\n 'instagood',\n 'KCA',\n 'TweetMyJobs',\n 'LT',\n 'np',\n 'Jobs',\n 'meteoAlarm',\n '地震',\n 'BLANCO',\n 'nowplaying',\n 'Job',\n 'Endomondo',\n 'RT',\n 'FautAssumerDesfois',\n 'Viña2013',\n '31Minutos',\n 'oomf',\n 'SpikersMarchWish',\n '31minutos',\n 'jobs',\n 'jaibrooksfollowspree',\n 'Cuddles']"
     },
     "execution_count": 24,
     "metadata": {},
     "output_type": "execute_result"
    }
   ],
   "source": [
    "result_001 = algorithmB(ts, d=40, w=5500, k=1000)\n",
    "result_001"
   ],
   "metadata": {
    "collapsed": false,
    "pycharm": {
     "name": "#%%\n"
    }
   }
  },
  {
   "cell_type": "code",
   "execution_count": 25,
   "outputs": [
    {
     "data": {
      "text/plain": "47"
     },
     "execution_count": 25,
     "metadata": {},
     "output_type": "execute_result"
    }
   ],
   "source": [
    "len(result_001)"
   ],
   "metadata": {
    "collapsed": false,
    "pycharm": {
     "name": "#%%\n"
    }
   }
  },
  {
   "cell_type": "markdown",
   "source": [
    "## Evaluate with the actual frequencies\n",
    "\n",
    "Count the actual frequencies to make sure it works."
   ],
   "metadata": {
    "collapsed": false,
    "pycharm": {
     "name": "#%% md\n"
    }
   }
  },
  {
   "cell_type": "code",
   "execution_count": 14,
   "outputs": [
    {
     "name": "stdout",
     "output_type": "stream",
     "text": [
      "894098\n"
     ]
    },
    {
     "data": {
      "text/plain": "[('地震', 1962),\n ('np', 2649),\n ('RT', 2082),\n ('jobs', 2124),\n ('love', 2140),\n ('BLANCO', 2739),\n ('meteoAlarm', 3790),\n ('Viña2013', 3267),\n ('Jobs', 5652),\n ('31minutos', 2264),\n ('Job', 7840),\n ('TweetMyJobs', 4024),\n ('31Minutos', 2644),\n ('jaibrooksfollowspree', 2086)]"
     },
     "execution_count": 14,
     "metadata": {},
     "output_type": "execute_result"
    }
   ],
   "source": [
    "ts = load_real_data()\n",
    "\n",
    "true_count = {}\n",
    "for tag in ts:\n",
    "    if tag not in true_count.keys():\n",
    "        true_count[tag] = 0\n",
    "\n",
    "    true_count[tag] += 1\n",
    "\n",
    "true_result = []\n",
    "for tag in true_count:\n",
    "    if true_count[tag] >= len(ts) * 0.002:\n",
    "        true_result.append((tag, true_count[tag]))\n",
    "\n",
    "true_result"
   ],
   "metadata": {
    "collapsed": false,
    "pycharm": {
     "name": "#%%\n"
    }
   }
  },
  {
   "cell_type": "code",
   "execution_count": 15,
   "outputs": [
    {
     "data": {
      "text/plain": "14"
     },
     "execution_count": 15,
     "metadata": {},
     "output_type": "execute_result"
    }
   ],
   "source": [
    "len(true_result)"
   ],
   "metadata": {
    "collapsed": false,
    "pycharm": {
     "name": "#%%\n"
    }
   }
  },
  {
   "cell_type": "code",
   "execution_count": 16,
   "outputs": [
    {
     "name": "stdout",
     "output_type": "stream",
     "text": [
      "894098\n"
     ]
    },
    {
     "data": {
      "text/plain": "[('地震', 1962),\n ('NP', 1784),\n ('np', 2649),\n ('JJ', 1152),\n ('nowplaying', 1437),\n ('instagood', 1605),\n ('photooftheday', 1111),\n ('LT', 1605),\n ('me', 1179),\n ('RT', 2082),\n ('FechasInolvidables', 1557),\n ('Endomondo', 1239),\n ('jobs', 2124),\n ('instamood', 1072),\n ('tbt', 1036),\n ('DuckDynasty', 1391),\n ('BackInJuniorHigh', 954),\n ('love', 2140),\n ('oomf', 1584),\n ('KCA', 1482),\n ('internship', 1294),\n ('BLANCO', 2739),\n ('meteoAlarm', 3790),\n ('LRT', 1445),\n ('fb', 1029),\n ('Viña2013', 3267),\n ('NairobiSC', 981),\n ('Jobs', 5652),\n ('31minutos', 2264),\n ('viña2013', 1383),\n ('Job', 7840),\n ('TweetMyJobs', 4024),\n ('31Minutos', 2644),\n ('MarchWish', 1310),\n ('jaibrooksfollowspree', 2086),\n ('iOnlyGetMadWhen', 919),\n ('SpikersMarchWish', 1731)]"
     },
     "execution_count": 16,
     "metadata": {},
     "output_type": "execute_result"
    }
   ],
   "source": [
    "ts = load_real_data()\n",
    "\n",
    "true_count = {}\n",
    "for tag in ts:\n",
    "    if tag not in true_count.keys():\n",
    "        true_count[tag] = 0\n",
    "\n",
    "    true_count[tag] += 1\n",
    "\n",
    "true_result = []\n",
    "for tag in true_count:\n",
    "    if true_count[tag] >= len(ts) * 0.001:\n",
    "        true_result.append((tag, true_count[tag]))\n",
    "\n",
    "true_result"
   ],
   "metadata": {
    "collapsed": false,
    "pycharm": {
     "name": "#%%\n"
    }
   }
  },
  {
   "cell_type": "code",
   "execution_count": 17,
   "outputs": [
    {
     "data": {
      "text/plain": "37"
     },
     "execution_count": 17,
     "metadata": {},
     "output_type": "execute_result"
    }
   ],
   "source": [
    "len(true_result)"
   ],
   "metadata": {
    "collapsed": false,
    "pycharm": {
     "name": "#%%\n"
    }
   }
  }
 ],
 "metadata": {
  "kernelspec": {
   "display_name": "Python 3",
   "language": "python",
   "name": "python3"
  },
  "language_info": {
   "codemirror_mode": {
    "name": "ipython",
    "version": 2
   },
   "file_extension": ".py",
   "mimetype": "text/x-python",
   "name": "python",
   "nbconvert_exporter": "python",
   "pygments_lexer": "ipython2",
   "version": "2.7.6"
  }
 },
 "nbformat": 4,
 "nbformat_minor": 0
}